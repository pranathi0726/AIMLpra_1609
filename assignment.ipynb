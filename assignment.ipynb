{
  "nbformat": 4,
  "nbformat_minor": 0,
  "metadata": {
    "colab": {
      "provenance": [],
      "authorship_tag": "ABX9TyOvZiarsnoqVwBuw32JUbcn",
      "include_colab_link": true
    },
    "kernelspec": {
      "name": "python3",
      "display_name": "Python 3"
    },
    "language_info": {
      "name": "python"
    }
  },
  "cells": [
    {
      "cell_type": "markdown",
      "metadata": {
        "id": "view-in-github",
        "colab_type": "text"
      },
      "source": [
        "<a href=\"https://colab.research.google.com/github/pranathi0726/AIMLpra_1609/blob/main/assignment.ipynb\" target=\"_parent\"><img src=\"https://colab.research.google.com/assets/colab-badge.svg\" alt=\"Open In Colab\"/></a>"
      ]
    },
    {
      "cell_type": "code",
      "execution_count": 1,
      "metadata": {
        "colab": {
          "base_uri": "https://localhost:8080/",
          "height": 106
        },
        "id": "XPsWO9xFJcsF",
        "outputId": "8098d0ac-6a5a-487a-c024-204c538620c1"
      },
      "outputs": [
        {
          "output_type": "error",
          "ename": "SyntaxError",
          "evalue": "invalid syntax (<ipython-input-1-a0cb8c88434f>, line 35)",
          "traceback": [
            "\u001b[0;36m  File \u001b[0;32m\"<ipython-input-1-a0cb8c88434f>\"\u001b[0;36m, line \u001b[0;32m35\u001b[0m\n\u001b[0;31m    print(np.log2(array1))import numpy as np\u001b[0m\n\u001b[0m                          ^\u001b[0m\n\u001b[0;31mSyntaxError\u001b[0m\u001b[0;31m:\u001b[0m invalid syntax\n"
          ]
        }
      ],
      "source": [
        "import numpy as np\n",
        "import pandas as pd\n",
        "print(\"LISTS\")\n",
        "a = [1, 2, 3, 4, 5]\n",
        "print(a)\n",
        "print(\"ARRAYS\")\n",
        "array1=np.array([6,17,8,29,5])\n",
        "array2=np.array([1,2,23,4,45])\n",
        "print(array1)\n",
        "print(array2)\n",
        "print(\"DATA TYPES\")\n",
        "print(type(array1))\n",
        "print(type(array2))\n",
        "print(\"MULTIPLICATION AND DIVISION OF ARRAYS\")\n",
        "mult_array = array1 * array2\n",
        "print(\"Multiplication of arrays:\", mult_array)\n",
        "div_array = array2 / array1\n",
        "print(\"Division of arrays:\", div_array)\n",
        "power_array = np.power(array1, 2)\n",
        "print(\"Power of array1 elements:\", power_array)\n",
        "print(\"ADDITION OF ARRAYS\")\n",
        "add=array1+array2\n",
        "print(add)\n",
        "print(\"IMPLEMENTATIONS\")\n",
        "\n",
        "exp_array1 = np.exp(array1)\n",
        "print(\"Exponential of array1:\", exp_array1)\n",
        "\n",
        "sin_array1 = np.sin(array1)\n",
        "print(\"Sine of array1:\", sin_array1)\n",
        "print(\"LOG()\")\n",
        "result = np.log(array1)\n",
        "print(result)\n",
        "print(\"LOG2\")\n",
        "print(np.log2(array1))import numpy as np\n",
        "import pandas as pd\n",
        "print(\"LISTS\")\n",
        "a = [1, 2, 3, 4, 5]\n",
        "print(a)\n",
        "print(\"ARRAYS\")\n",
        "array1=np.array([6,17,8,29,5])\n",
        "array2=np.array([1,2,23,4,45])\n",
        "print(array1)\n",
        "print(array2)\n",
        "print(\"DATA TYPES\")\n",
        "print(type(array1))\n",
        "print(type(array2))\n",
        "print(\"MULTIPLICATION AND DIVISION OF ARRAYS\")\n",
        "mult_array = array1 * array2\n",
        "print(\"Multiplication of arrays:\", mult_array)\n",
        "div_array = array2 / array1\n",
        "print(\"Division of arrays:\", div_array)\n",
        "power_array = np.power(array1, 2)\n",
        "print(\"Power of array1 elements:\", power_array)\n",
        "print(\"ADDITION OF ARRAYS\")\n",
        "add=array1+array2\n",
        "print(add)\n",
        "print(\"IMPLEMENTATIONS\")\n",
        "\n",
        "exp_array1 = np.exp(array1)\n",
        "print(\"Exponential of array1:\", exp_array1)\n",
        "\n",
        "sin_array1 = np.sin(array1)\n",
        "print(\"Sine of array1:\", sin_array1)\n",
        "print(\"LOG()\")\n",
        "result = np.log(array1)\n",
        "print(result)\n",
        "print(\"LOG2\")\n",
        "print(np.log2(array1))"
      ]
    }
  ]
}